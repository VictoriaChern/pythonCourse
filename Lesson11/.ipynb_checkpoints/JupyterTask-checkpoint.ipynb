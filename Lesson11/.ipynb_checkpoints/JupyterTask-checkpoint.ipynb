{
 "cells": [
  {
   "cell_type": "markdown",
   "id": "12c7ed60",
   "metadata": {},
   "source": [
    "Дана функция: f(x) = x2 - 6*abs(x) + 8"
   ]
  },
  {
   "cell_type": "code",
   "execution_count": 1,
   "id": "81d16b35",
   "metadata": {},
   "outputs": [
    {
     "name": "stdout",
     "output_type": "stream",
     "text": [
      "2⋅x - 6⋅│x│ + 8\n"
     ]
    }
   ],
   "source": [
    "from sympy import *\n",
    "x = symbols('x', real = True)\n",
    "func = x*2 - 6*abs(x) + 8\n",
    "pprint(func)"
   ]
  },
  {
   "cell_type": "markdown",
   "id": "1314afdc",
   "metadata": {},
   "source": [
    "1. Определить корни"
   ]
  },
  {
   "cell_type": "code",
   "execution_count": 2,
   "id": "eae15334",
   "metadata": {},
   "outputs": [
    {
     "name": "stdout",
     "output_type": "stream",
     "text": [
      "[-1, 2]\n"
     ]
    }
   ],
   "source": [
    "roots = solve(func, x)\n",
    "print(roots)"
   ]
  },
  {
   "cell_type": "markdown",
   "id": "1818d717",
   "metadata": {},
   "source": [
    "2. Найти интервалы, на которых функция возрастает"
   ]
  },
  {
   "cell_type": "code",
   "execution_count": 3,
   "id": "62d12146",
   "metadata": {},
   "outputs": [
    {
     "name": "stdout",
     "output_type": "stream",
     "text": [
      "функция возрастает на промежутке Interval(-oo, -1)\n"
     ]
    }
   ],
   "source": [
    "increase_roots = list(filter(lambda root: is_increasing(func, Interval(-oo, root)), roots))\n",
    "for root in increase_roots:\n",
    "    val = Interval(-oo, root)\n",
    "    if (is_increasing(func, val)):\n",
    "        pprint(f'функция возрастает на промежутке {val}')"
   ]
  },
  {
   "cell_type": "markdown",
   "id": "07aee101",
   "metadata": {},
   "source": [
    "3. Найти интервалы, на которых функция убывает"
   ]
  },
  {
   "cell_type": "code",
   "execution_count": 4,
   "id": "8373a63e",
   "metadata": {},
   "outputs": [],
   "source": [
    "decrease_roots = list(filter(lambda root: is_decreasing(func, Interval(root, oo)), roots))\n",
    "for root in decrease_roots:\n",
    "    val = Interval(-oo, root)\n",
    "    if (is_decreasing(func, val)):\n",
    "        pprint(f'функция убывает на промежутке {val}')"
   ]
  },
  {
   "cell_type": "markdown",
   "id": "8599cc70",
   "metadata": {},
   "source": [
    "4. Построить график"
   ]
  },
  {
   "cell_type": "code",
   "execution_count": 5,
   "id": "bc8604bb",
   "metadata": {},
   "outputs": [
    {
     "data": {
      "image/png": "[encoded data removed]",
      "text/plain": [
       "<Figure size 432x288 with 1 Axes>"
      ]
     },
     "metadata": {
      "needs_background": "light"
     },
     "output_type": "display_data"
    },
    {
     "data": {
      "text/latex": [
       "$\\displaystyle 2 x - 6 \\left|{x}\\right| + 8$"
      ],
      "text/plain": [
       "2*x - 6*Abs(x) + 8"
      ]
     },
     "execution_count": 5,
     "metadata": {},
     "output_type": "execute_result"
    }
   ],
   "source": [
    "plot(func)\n",
    "func"
   ]
  },
  {
   "cell_type": "markdown",
   "id": "89bc71e2",
   "metadata": {},
   "source": [
    "5. Вычислить вершину"
   ]
  },
  {
   "cell_type": "code",
   "execution_count": 20,
   "id": "4b51ae43",
   "metadata": {},
   "outputs": [
    {
     "name": "stdout",
     "output_type": "stream",
     "text": [
      "Вершина: (x: 0, y: 8)\n"
     ]
    }
   ],
   "source": [
    "pos = x*2 - 6*x + 8\n",
    "neg = x*2 - 6*(-x) + 8\n",
    "x_top = solve(pos - neg)[0]\n",
    "print(f'Вершина: (x: {x_top}, y: {func.subs(x, 0)})')"
   ]
  },
  {
   "cell_type": "markdown",
   "id": "0aca91ac",
   "metadata": {},
   "source": [
    "6. Определить промежутки, на котором f > 0"
   ]
  },
  {
   "cell_type": "code",
   "execution_count": 39,
   "id": "0d3fd328",
   "metadata": {},
   "outputs": [
    {
     "name": "stdout",
     "output_type": "stream",
     "text": [
      "Interval(-oo, -1) -> True\n",
      "Interval(-1, 0) -> True\n",
      "Interval(0, 1) -> False\n",
      "Interval(1, 2) -> False\n"
     ]
    }
   ],
   "source": [
    "prev = -oo\n",
    "for xr in range(roots[0], roots[1]+1):\n",
    "    val = Interval(prev, xr)\n",
    "    print(f'{Interval(prev, xr)} -> {is_increasing(func, val)}')\n",
    "    prev = xr"
   ]
  },
  {
   "cell_type": "code",
   "execution_count": null,
   "id": "7059ec2e",
   "metadata": {},
   "outputs": [],
   "source": []
  }
 ],
 "metadata": {
  "kernelspec": {
   "display_name": "Python 3 (ipykernel)",
   "language": "python",
   "name": "python3"
  },
  "language_info": {
   "codemirror_mode": {
    "name": "ipython",
    "version": 3
   },
   "file_extension": ".py",
   "mimetype": "text/x-python",
   "name": "python",
   "nbconvert_exporter": "python",
   "pygments_lexer": "ipython3",
   "version": "3.9.12"
  }
 },
 "nbformat": 4,
 "nbformat_minor": 5
}
